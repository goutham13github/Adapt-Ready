{
 "cells": [
  {
   "cell_type": "code",
   "execution_count": 1,
   "id": "e7749b2f",
   "metadata": {},
   "outputs": [
    {
     "name": "stderr",
     "output_type": "stream",
     "text": [
      "C:\\Users\\goutham\\AppData\\Local\\Temp\\ipykernel_8076\\2527814709.py:3: DtypeWarning: Columns (16) have mixed types. Specify dtype option on import or set low_memory=False.\n",
      "  df = pd.read_csv('complaints.csv')\n"
     ]
    },
    {
     "data": {
      "text/html": [
       "<div>\n",
       "<style scoped>\n",
       "    .dataframe tbody tr th:only-of-type {\n",
       "        vertical-align: middle;\n",
       "    }\n",
       "\n",
       "    .dataframe tbody tr th {\n",
       "        vertical-align: top;\n",
       "    }\n",
       "\n",
       "    .dataframe thead th {\n",
       "        text-align: right;\n",
       "    }\n",
       "</style>\n",
       "<table border=\"1\" class=\"dataframe\">\n",
       "  <thead>\n",
       "    <tr style=\"text-align: right;\">\n",
       "      <th></th>\n",
       "      <th>Date received</th>\n",
       "      <th>Product</th>\n",
       "      <th>Sub-product</th>\n",
       "      <th>Issue</th>\n",
       "      <th>Sub-issue</th>\n",
       "      <th>Consumer complaint narrative</th>\n",
       "      <th>Company public response</th>\n",
       "      <th>Company</th>\n",
       "      <th>State</th>\n",
       "      <th>ZIP code</th>\n",
       "      <th>Tags</th>\n",
       "      <th>Consumer consent provided?</th>\n",
       "      <th>Submitted via</th>\n",
       "      <th>Date sent to company</th>\n",
       "      <th>Company response to consumer</th>\n",
       "      <th>Timely response?</th>\n",
       "      <th>Consumer disputed?</th>\n",
       "      <th>Complaint ID</th>\n",
       "    </tr>\n",
       "  </thead>\n",
       "  <tbody>\n",
       "    <tr>\n",
       "      <th>0</th>\n",
       "      <td>2024-01-24</td>\n",
       "      <td>Credit reporting or other personal consumer re...</td>\n",
       "      <td>Credit reporting</td>\n",
       "      <td>Incorrect information on your report</td>\n",
       "      <td>Account information incorrect</td>\n",
       "      <td>NaN</td>\n",
       "      <td>Company has responded to the consumer and the ...</td>\n",
       "      <td>TRANSUNION INTERMEDIATE HOLDINGS, INC.</td>\n",
       "      <td>FL</td>\n",
       "      <td>33578</td>\n",
       "      <td>NaN</td>\n",
       "      <td>Consent not provided</td>\n",
       "      <td>Web</td>\n",
       "      <td>2024-01-24</td>\n",
       "      <td>Closed with explanation</td>\n",
       "      <td>Yes</td>\n",
       "      <td>NaN</td>\n",
       "      <td>8205544</td>\n",
       "    </tr>\n",
       "    <tr>\n",
       "      <th>1</th>\n",
       "      <td>2024-02-26</td>\n",
       "      <td>Debt collection</td>\n",
       "      <td>Other debt</td>\n",
       "      <td>Threatened to contact someone or share informa...</td>\n",
       "      <td>Talked to a third-party about your debt</td>\n",
       "      <td>NaN</td>\n",
       "      <td>NaN</td>\n",
       "      <td>Marlette Funding, LLC</td>\n",
       "      <td>IL</td>\n",
       "      <td>60060</td>\n",
       "      <td>NaN</td>\n",
       "      <td>Consent not provided</td>\n",
       "      <td>Web</td>\n",
       "      <td>2024-02-26</td>\n",
       "      <td>Closed with explanation</td>\n",
       "      <td>Yes</td>\n",
       "      <td>NaN</td>\n",
       "      <td>8424268</td>\n",
       "    </tr>\n",
       "    <tr>\n",
       "      <th>2</th>\n",
       "      <td>2024-02-26</td>\n",
       "      <td>Credit reporting or other personal consumer re...</td>\n",
       "      <td>Credit reporting</td>\n",
       "      <td>Incorrect information on your report</td>\n",
       "      <td>Information belongs to someone else</td>\n",
       "      <td>NaN</td>\n",
       "      <td>Company believes it acted appropriately as aut...</td>\n",
       "      <td>CCS Financial Services, Inc.</td>\n",
       "      <td>NC</td>\n",
       "      <td>27536</td>\n",
       "      <td>NaN</td>\n",
       "      <td>Consent not provided</td>\n",
       "      <td>Web</td>\n",
       "      <td>2024-02-26</td>\n",
       "      <td>Closed with non-monetary relief</td>\n",
       "      <td>Yes</td>\n",
       "      <td>NaN</td>\n",
       "      <td>8423775</td>\n",
       "    </tr>\n",
       "    <tr>\n",
       "      <th>3</th>\n",
       "      <td>2024-02-20</td>\n",
       "      <td>Credit reporting or other personal consumer re...</td>\n",
       "      <td>Credit reporting</td>\n",
       "      <td>Improper use of your report</td>\n",
       "      <td>Reporting company used your report improperly</td>\n",
       "      <td>I am disappointed to have received a credit re...</td>\n",
       "      <td>NaN</td>\n",
       "      <td>LEXISNEXIS</td>\n",
       "      <td>CA</td>\n",
       "      <td>94124</td>\n",
       "      <td>NaN</td>\n",
       "      <td>Consent provided</td>\n",
       "      <td>Web</td>\n",
       "      <td>2024-02-20</td>\n",
       "      <td>Closed with explanation</td>\n",
       "      <td>Yes</td>\n",
       "      <td>NaN</td>\n",
       "      <td>8379830</td>\n",
       "    </tr>\n",
       "    <tr>\n",
       "      <th>4</th>\n",
       "      <td>2024-01-26</td>\n",
       "      <td>Credit reporting or other personal consumer re...</td>\n",
       "      <td>Credit reporting</td>\n",
       "      <td>Incorrect information on your report</td>\n",
       "      <td>Information belongs to someone else</td>\n",
       "      <td>The companies, along with the credit reporting...</td>\n",
       "      <td>NaN</td>\n",
       "      <td>EQUIFAX, INC.</td>\n",
       "      <td>NC</td>\n",
       "      <td>28804</td>\n",
       "      <td>NaN</td>\n",
       "      <td>Consent provided</td>\n",
       "      <td>Web</td>\n",
       "      <td>2024-01-26</td>\n",
       "      <td>Closed with non-monetary relief</td>\n",
       "      <td>Yes</td>\n",
       "      <td>NaN</td>\n",
       "      <td>8232435</td>\n",
       "    </tr>\n",
       "    <tr>\n",
       "      <th>...</th>\n",
       "      <td>...</td>\n",
       "      <td>...</td>\n",
       "      <td>...</td>\n",
       "      <td>...</td>\n",
       "      <td>...</td>\n",
       "      <td>...</td>\n",
       "      <td>...</td>\n",
       "      <td>...</td>\n",
       "      <td>...</td>\n",
       "      <td>...</td>\n",
       "      <td>...</td>\n",
       "      <td>...</td>\n",
       "      <td>...</td>\n",
       "      <td>...</td>\n",
       "      <td>...</td>\n",
       "      <td>...</td>\n",
       "      <td>...</td>\n",
       "      <td>...</td>\n",
       "    </tr>\n",
       "    <tr>\n",
       "      <th>5167777</th>\n",
       "      <td>2023-08-02</td>\n",
       "      <td>Credit reporting, credit repair services, or o...</td>\n",
       "      <td>Credit reporting</td>\n",
       "      <td>Incorrect information on your report</td>\n",
       "      <td>Information belongs to someone else</td>\n",
       "      <td>NaN</td>\n",
       "      <td>NaN</td>\n",
       "      <td>EQUIFAX, INC.</td>\n",
       "      <td>TX</td>\n",
       "      <td>76036</td>\n",
       "      <td>NaN</td>\n",
       "      <td>Other</td>\n",
       "      <td>Web</td>\n",
       "      <td>2023-08-02</td>\n",
       "      <td>Closed with non-monetary relief</td>\n",
       "      <td>Yes</td>\n",
       "      <td>NaN</td>\n",
       "      <td>7337991</td>\n",
       "    </tr>\n",
       "    <tr>\n",
       "      <th>5167778</th>\n",
       "      <td>2023-08-02</td>\n",
       "      <td>Payday loan, title loan, or personal loan</td>\n",
       "      <td>Installment loan</td>\n",
       "      <td>Problem with additional add-on products or ser...</td>\n",
       "      <td>NaN</td>\n",
       "      <td>NaN</td>\n",
       "      <td>NaN</td>\n",
       "      <td>NBT BANCORP INC.</td>\n",
       "      <td>NJ</td>\n",
       "      <td>08046</td>\n",
       "      <td>NaN</td>\n",
       "      <td>NaN</td>\n",
       "      <td>Phone</td>\n",
       "      <td>2023-08-02</td>\n",
       "      <td>Closed with explanation</td>\n",
       "      <td>Yes</td>\n",
       "      <td>NaN</td>\n",
       "      <td>7343156</td>\n",
       "    </tr>\n",
       "    <tr>\n",
       "      <th>5167779</th>\n",
       "      <td>2023-08-02</td>\n",
       "      <td>Mortgage</td>\n",
       "      <td>FHA mortgage</td>\n",
       "      <td>Struggling to pay mortgage</td>\n",
       "      <td>NaN</td>\n",
       "      <td>NaN</td>\n",
       "      <td>Company believes it acted appropriately as aut...</td>\n",
       "      <td>Chesmar Homes</td>\n",
       "      <td>TX</td>\n",
       "      <td>77316</td>\n",
       "      <td>NaN</td>\n",
       "      <td>Other</td>\n",
       "      <td>Web</td>\n",
       "      <td>2023-08-17</td>\n",
       "      <td>Closed with explanation</td>\n",
       "      <td>Yes</td>\n",
       "      <td>NaN</td>\n",
       "      <td>7340709</td>\n",
       "    </tr>\n",
       "    <tr>\n",
       "      <th>5167780</th>\n",
       "      <td>2023-08-02</td>\n",
       "      <td>Credit reporting, credit repair services, or o...</td>\n",
       "      <td>Credit reporting</td>\n",
       "      <td>Improper use of your report</td>\n",
       "      <td>Reporting company used your report improperly</td>\n",
       "      <td>NaN</td>\n",
       "      <td>NaN</td>\n",
       "      <td>EQUIFAX, INC.</td>\n",
       "      <td>GA</td>\n",
       "      <td>30013</td>\n",
       "      <td>NaN</td>\n",
       "      <td>Consent not provided</td>\n",
       "      <td>Web</td>\n",
       "      <td>2023-08-02</td>\n",
       "      <td>Closed with explanation</td>\n",
       "      <td>Yes</td>\n",
       "      <td>NaN</td>\n",
       "      <td>7341166</td>\n",
       "    </tr>\n",
       "    <tr>\n",
       "      <th>5167781</th>\n",
       "      <td>2023-08-04</td>\n",
       "      <td>Payday loan, title loan, or personal loan</td>\n",
       "      <td>Payday loan</td>\n",
       "      <td>Charged fees or interest you didn't expect</td>\n",
       "      <td>NaN</td>\n",
       "      <td>NaN</td>\n",
       "      <td>NaN</td>\n",
       "      <td>Flandreau Santee Sioux Tribe</td>\n",
       "      <td>TX</td>\n",
       "      <td>75057</td>\n",
       "      <td>NaN</td>\n",
       "      <td>Consent not provided</td>\n",
       "      <td>Web</td>\n",
       "      <td>2023-08-18</td>\n",
       "      <td>Closed with explanation</td>\n",
       "      <td>Yes</td>\n",
       "      <td>NaN</td>\n",
       "      <td>7350142</td>\n",
       "    </tr>\n",
       "  </tbody>\n",
       "</table>\n",
       "<p>5167782 rows × 18 columns</p>\n",
       "</div>"
      ],
      "text/plain": [
       "        Date received                                            Product  \\\n",
       "0          2024-01-24  Credit reporting or other personal consumer re...   \n",
       "1          2024-02-26                                    Debt collection   \n",
       "2          2024-02-26  Credit reporting or other personal consumer re...   \n",
       "3          2024-02-20  Credit reporting or other personal consumer re...   \n",
       "4          2024-01-26  Credit reporting or other personal consumer re...   \n",
       "...               ...                                                ...   \n",
       "5167777    2023-08-02  Credit reporting, credit repair services, or o...   \n",
       "5167778    2023-08-02          Payday loan, title loan, or personal loan   \n",
       "5167779    2023-08-02                                           Mortgage   \n",
       "5167780    2023-08-02  Credit reporting, credit repair services, or o...   \n",
       "5167781    2023-08-04          Payday loan, title loan, or personal loan   \n",
       "\n",
       "              Sub-product                                              Issue  \\\n",
       "0        Credit reporting               Incorrect information on your report   \n",
       "1              Other debt  Threatened to contact someone or share informa...   \n",
       "2        Credit reporting               Incorrect information on your report   \n",
       "3        Credit reporting                        Improper use of your report   \n",
       "4        Credit reporting               Incorrect information on your report   \n",
       "...                   ...                                                ...   \n",
       "5167777  Credit reporting               Incorrect information on your report   \n",
       "5167778  Installment loan  Problem with additional add-on products or ser...   \n",
       "5167779      FHA mortgage                         Struggling to pay mortgage   \n",
       "5167780  Credit reporting                        Improper use of your report   \n",
       "5167781       Payday loan         Charged fees or interest you didn't expect   \n",
       "\n",
       "                                             Sub-issue  \\\n",
       "0                        Account information incorrect   \n",
       "1              Talked to a third-party about your debt   \n",
       "2                  Information belongs to someone else   \n",
       "3        Reporting company used your report improperly   \n",
       "4                  Information belongs to someone else   \n",
       "...                                                ...   \n",
       "5167777            Information belongs to someone else   \n",
       "5167778                                            NaN   \n",
       "5167779                                            NaN   \n",
       "5167780  Reporting company used your report improperly   \n",
       "5167781                                            NaN   \n",
       "\n",
       "                              Consumer complaint narrative  \\\n",
       "0                                                      NaN   \n",
       "1                                                      NaN   \n",
       "2                                                      NaN   \n",
       "3        I am disappointed to have received a credit re...   \n",
       "4        The companies, along with the credit reporting...   \n",
       "...                                                    ...   \n",
       "5167777                                                NaN   \n",
       "5167778                                                NaN   \n",
       "5167779                                                NaN   \n",
       "5167780                                                NaN   \n",
       "5167781                                                NaN   \n",
       "\n",
       "                                   Company public response  \\\n",
       "0        Company has responded to the consumer and the ...   \n",
       "1                                                      NaN   \n",
       "2        Company believes it acted appropriately as aut...   \n",
       "3                                                      NaN   \n",
       "4                                                      NaN   \n",
       "...                                                    ...   \n",
       "5167777                                                NaN   \n",
       "5167778                                                NaN   \n",
       "5167779  Company believes it acted appropriately as aut...   \n",
       "5167780                                                NaN   \n",
       "5167781                                                NaN   \n",
       "\n",
       "                                        Company State ZIP code Tags  \\\n",
       "0        TRANSUNION INTERMEDIATE HOLDINGS, INC.    FL    33578  NaN   \n",
       "1                         Marlette Funding, LLC    IL    60060  NaN   \n",
       "2                  CCS Financial Services, Inc.    NC    27536  NaN   \n",
       "3                                    LEXISNEXIS    CA    94124  NaN   \n",
       "4                                 EQUIFAX, INC.    NC    28804  NaN   \n",
       "...                                         ...   ...      ...  ...   \n",
       "5167777                           EQUIFAX, INC.    TX    76036  NaN   \n",
       "5167778                        NBT BANCORP INC.    NJ    08046  NaN   \n",
       "5167779                           Chesmar Homes    TX    77316  NaN   \n",
       "5167780                           EQUIFAX, INC.    GA    30013  NaN   \n",
       "5167781            Flandreau Santee Sioux Tribe    TX    75057  NaN   \n",
       "\n",
       "        Consumer consent provided? Submitted via Date sent to company  \\\n",
       "0             Consent not provided           Web           2024-01-24   \n",
       "1             Consent not provided           Web           2024-02-26   \n",
       "2             Consent not provided           Web           2024-02-26   \n",
       "3                 Consent provided           Web           2024-02-20   \n",
       "4                 Consent provided           Web           2024-01-26   \n",
       "...                            ...           ...                  ...   \n",
       "5167777                      Other           Web           2023-08-02   \n",
       "5167778                        NaN         Phone           2023-08-02   \n",
       "5167779                      Other           Web           2023-08-17   \n",
       "5167780       Consent not provided           Web           2023-08-02   \n",
       "5167781       Consent not provided           Web           2023-08-18   \n",
       "\n",
       "            Company response to consumer Timely response? Consumer disputed?  \\\n",
       "0                Closed with explanation              Yes                NaN   \n",
       "1                Closed with explanation              Yes                NaN   \n",
       "2        Closed with non-monetary relief              Yes                NaN   \n",
       "3                Closed with explanation              Yes                NaN   \n",
       "4        Closed with non-monetary relief              Yes                NaN   \n",
       "...                                  ...              ...                ...   \n",
       "5167777  Closed with non-monetary relief              Yes                NaN   \n",
       "5167778          Closed with explanation              Yes                NaN   \n",
       "5167779          Closed with explanation              Yes                NaN   \n",
       "5167780          Closed with explanation              Yes                NaN   \n",
       "5167781          Closed with explanation              Yes                NaN   \n",
       "\n",
       "         Complaint ID  \n",
       "0             8205544  \n",
       "1             8424268  \n",
       "2             8423775  \n",
       "3             8379830  \n",
       "4             8232435  \n",
       "...               ...  \n",
       "5167777       7337991  \n",
       "5167778       7343156  \n",
       "5167779       7340709  \n",
       "5167780       7341166  \n",
       "5167781       7350142  \n",
       "\n",
       "[5167782 rows x 18 columns]"
      ]
     },
     "execution_count": 1,
     "metadata": {},
     "output_type": "execute_result"
    }
   ],
   "source": [
    "import pandas as pd\n",
    "\n",
    "df = pd.read_csv('complaints.csv')\n",
    "df"
   ]
  },
  {
   "cell_type": "code",
   "execution_count": 2,
   "id": "81d8920c",
   "metadata": {},
   "outputs": [
    {
     "data": {
      "text/plain": [
       "Date received                         0\n",
       "Product                               0\n",
       "Sub-product                      235292\n",
       "Issue                                 2\n",
       "Sub-issue                        735101\n",
       "Consumer complaint narrative    3351574\n",
       "Company public response         2693192\n",
       "Company                               0\n",
       "State                             45611\n",
       "ZIP code                          30225\n",
       "Tags                            4684932\n",
       "Consumer consent provided?      1026812\n",
       "Submitted via                         0\n",
       "Date sent to company                  0\n",
       "Company response to consumer         14\n",
       "Timely response?                      0\n",
       "Consumer disputed?              4399466\n",
       "Complaint ID                          0\n",
       "dtype: int64"
      ]
     },
     "execution_count": 2,
     "metadata": {},
     "output_type": "execute_result"
    }
   ],
   "source": [
    "df.isnull().sum()"
   ]
  },
  {
   "cell_type": "code",
   "execution_count": 3,
   "id": "208f0550",
   "metadata": {},
   "outputs": [],
   "source": [
    "# Drop the 'tags' column in place\n",
    "df.drop(columns=['Tags',\"Consumer disputed?\",\"Consumer complaint narrative\"], inplace=True)"
   ]
  },
  {
   "cell_type": "code",
   "execution_count": 31,
   "id": "82f643ea",
   "metadata": {},
   "outputs": [
    {
     "data": {
      "text/plain": [
       "ZIP code\n",
       "XXXXX    119502\n",
       "30349      9506\n",
       "19143      8038\n",
       "33025      7195\n",
       "33311      6634\n",
       "          ...  \n",
       "72208         1\n",
       "88119         1\n",
       "88042         1\n",
       "28685         1\n",
       "98933         1\n",
       "Name: count, Length: 33632, dtype: int64"
      ]
     },
     "execution_count": 31,
     "metadata": {},
     "output_type": "execute_result"
    }
   ],
   "source": [
    "df[\"ZIP code\"].value_counts()"
   ]
  },
  {
   "cell_type": "code",
   "execution_count": 4,
   "id": "1403963b",
   "metadata": {},
   "outputs": [],
   "source": [
    "# Replace 'XXXXX' with 'Unknown' in the 'ZIP code' column\n",
    "df['ZIP code'] = df['ZIP code'].replace('XXXXX', 'Unknown')\n"
   ]
  },
  {
   "cell_type": "code",
   "execution_count": 14,
   "id": "c5998dd3",
   "metadata": {},
   "outputs": [],
   "source": [
    "df['ZIP code'] = df['ZIP code'].fillna('Unknown')"
   ]
  },
  {
   "cell_type": "code",
   "execution_count": 7,
   "id": "d0d6dddf",
   "metadata": {},
   "outputs": [
    {
     "data": {
      "text/plain": [
       "Sub-product\n",
       "Credit reporting                              3097097\n",
       "Checking account                               228291\n",
       "General-purpose credit card or charge card     197957\n",
       "I do not know                                  134083\n",
       "Other debt                                     109336\n",
       "                                               ...   \n",
       "Transit card                                       37\n",
       "Earned wage access                                 36\n",
       "Student loan debt relief                           21\n",
       "Electronic Benefit Transfer / EBT card             12\n",
       "Tax refund anticipation loan or check               8\n",
       "Name: count, Length: 86, dtype: int64"
      ]
     },
     "execution_count": 7,
     "metadata": {},
     "output_type": "execute_result"
    }
   ],
   "source": [
    "df[\"Sub-product\"].value_counts()"
   ]
  },
  {
   "cell_type": "code",
   "execution_count": 9,
   "id": "e8fd2141",
   "metadata": {},
   "outputs": [],
   "source": [
    "# Replace null values in 'Sub-product' column with 'Credit reporting'\n",
    "df['Sub-product'] = df['Sub-product'].fillna('Credit reporting')"
   ]
  },
  {
   "cell_type": "code",
   "execution_count": 11,
   "id": "9ee2fd41",
   "metadata": {},
   "outputs": [
    {
     "data": {
      "text/plain": [
       "Sub-issue\n",
       "Information belongs to someone else                                                 997464\n",
       "Reporting company used your report improperly                                       523894\n",
       "Their investigation did not fix an error on your report                             455688\n",
       "Credit inquiries on your report that you don't recognize                            271091\n",
       "Account information incorrect                                                       181711\n",
       "                                                                                     ...  \n",
       "Issues with financial aid services                                                       5\n",
       "Problem with a credit reporting company's investigation into an existing problem         5\n",
       "Credit monitoring or identity theft protection services                                  1\n",
       "Problem with fraud alerts or security freezes                                            1\n",
       "Improper use of your report                                                              1\n",
       "Name: count, Length: 272, dtype: int64"
      ]
     },
     "execution_count": 11,
     "metadata": {},
     "output_type": "execute_result"
    }
   ],
   "source": [
    "df[\"Sub-issue\"].value_counts()"
   ]
  },
  {
   "cell_type": "code",
   "execution_count": 18,
   "id": "e68860a5",
   "metadata": {},
   "outputs": [],
   "source": [
    "# Replace null values in 'Sub-issue' column with 'Information belongs to someone else'\n",
    "df['Sub-issue'] = df['Sub-issue'].fillna('Information belongs to someone else')"
   ]
  },
  {
   "cell_type": "code",
   "execution_count": 21,
   "id": "a8dde917",
   "metadata": {},
   "outputs": [
    {
     "data": {
      "text/plain": [
       "Company public response\n",
       "Company has responded to the consumer and the CFPB and chooses not to provide a public response                            2225556\n",
       "Company believes it acted appropriately as authorized by contract or law                                                    144242\n",
       "Company chooses not to provide a public response                                                                             52473\n",
       "Company believes the complaint is the result of a misunderstanding                                                           13190\n",
       "Company disputes the facts presented in the complaint                                                                        11244\n",
       "Company believes complaint caused principally by actions of third party outside the control or direction of the company       7854\n",
       "Company believes complaint is the result of an isolated error                                                                 6342\n",
       "Company believes complaint represents an opportunity for improvement to better serve consumers                                4892\n",
       "Company can't verify or dispute the facts in the complaint                                                                    4529\n",
       "Company believes the complaint provided an opportunity to answer consumer's questions                                         4157\n",
       "Company believes complaint relates to a discontinued policy or procedure                                                       111\n",
       "Name: count, dtype: int64"
      ]
     },
     "execution_count": 21,
     "metadata": {},
     "output_type": "execute_result"
    }
   ],
   "source": [
    "df[\"Company public response\"].value_counts()"
   ]
  },
  {
   "cell_type": "code",
   "execution_count": 22,
   "id": "37e60b9b",
   "metadata": {},
   "outputs": [],
   "source": [
    "# Replace null values in 'Sub-issue' column with 'Information belongs to someone else'\n",
    "df['Company public response'] = df['Company public response'].fillna('Company has responded to the consumer and the CFPB and chooses not to provide a public response')"
   ]
  },
  {
   "cell_type": "code",
   "execution_count": 24,
   "id": "90dfbcc2",
   "metadata": {},
   "outputs": [
    {
     "data": {
      "text/plain": [
       "State\n",
       "FL    619361\n",
       "CA    589948\n",
       "TX    550630\n",
       "GA    354237\n",
       "NY    331769\n",
       "       ...  \n",
       "AA        59\n",
       "MP        56\n",
       "AS        47\n",
       "MH        33\n",
       "PW        13\n",
       "Name: count, Length: 63, dtype: int64"
      ]
     },
     "execution_count": 24,
     "metadata": {},
     "output_type": "execute_result"
    }
   ],
   "source": [
    "df[\"State\"].value_counts()"
   ]
  },
  {
   "cell_type": "code",
   "execution_count": 25,
   "id": "3fdd617b",
   "metadata": {},
   "outputs": [],
   "source": [
    "df['State'] = df['State'].fillna('Unknown')"
   ]
  },
  {
   "cell_type": "code",
   "execution_count": 26,
   "id": "3c825363",
   "metadata": {},
   "outputs": [
    {
     "data": {
      "text/plain": [
       "Consumer consent provided?\n",
       "Consent not provided    2064644\n",
       "Consent provided        1817757\n",
       "Other                    249612\n",
       "Consent withdrawn          8957\n",
       "Name: count, dtype: int64"
      ]
     },
     "execution_count": 26,
     "metadata": {},
     "output_type": "execute_result"
    }
   ],
   "source": [
    "df[\"Consumer consent provided?\"].value_counts()"
   ]
  },
  {
   "cell_type": "code",
   "execution_count": 27,
   "id": "5d39bd78",
   "metadata": {},
   "outputs": [],
   "source": [
    "df['Consumer consent provided?'] = df['Consumer consent provided?'].fillna('Consent not provided')"
   ]
  },
  {
   "cell_type": "code",
   "execution_count": 28,
   "id": "f0694201",
   "metadata": {},
   "outputs": [
    {
     "data": {
      "text/plain": [
       "Company response to consumer\n",
       "Closed with explanation            3445821\n",
       "Closed with non-monetary relief    1297585\n",
       "In progress                         218783\n",
       "Closed with monetary relief         153316\n",
       "Closed without relief                17868\n",
       "Closed                               17611\n",
       "Untimely response                    11480\n",
       "Closed with relief                    5304\n",
       "Name: count, dtype: int64"
      ]
     },
     "execution_count": 28,
     "metadata": {},
     "output_type": "execute_result"
    }
   ],
   "source": [
    "df[\"Company response to consumer\"].value_counts()"
   ]
  },
  {
   "cell_type": "code",
   "execution_count": 29,
   "id": "5cc00375",
   "metadata": {},
   "outputs": [],
   "source": [
    "df['Company response to consumer'] = df['Company response to consumer'].fillna('Closed with explanation')"
   ]
  },
  {
   "cell_type": "code",
   "execution_count": 31,
   "id": "eec6cffd",
   "metadata": {},
   "outputs": [
    {
     "data": {
      "text/plain": [
       "Issue\n",
       "Incorrect information on your report                                                1504940\n",
       "Improper use of your report                                                          799797\n",
       "Problem with a credit reporting company's investigation into an existing problem     589336\n",
       "Attempts to collect debt not owed                                                    211699\n",
       "Problem with a company's investigation into an existing problem                      204610\n",
       "                                                                                     ...   \n",
       "Lender damaged or destroyed vehicle                                                       8\n",
       "Property was damaged or destroyed property                                                7\n",
       "Lender sold the property                                                                  7\n",
       "Lender damaged or destroyed property                                                      3\n",
       "Lost or stolen refund                                                                     2\n",
       "Name: count, Length: 178, dtype: int64"
      ]
     },
     "execution_count": 31,
     "metadata": {},
     "output_type": "execute_result"
    }
   ],
   "source": [
    "df[\"Issue\"].value_counts()"
   ]
  },
  {
   "cell_type": "code",
   "execution_count": 32,
   "id": "d9e967c9",
   "metadata": {},
   "outputs": [],
   "source": [
    "df['Issue'] = df['Issue'].fillna('Incorrect information on your report')"
   ]
  },
  {
   "cell_type": "code",
   "execution_count": 33,
   "id": "2a51f0ea",
   "metadata": {},
   "outputs": [
    {
     "data": {
      "text/plain": [
       "Date received                   0\n",
       "Product                         0\n",
       "Sub-product                     0\n",
       "Issue                           0\n",
       "Sub-issue                       0\n",
       "Company public response         0\n",
       "Company                         0\n",
       "State                           0\n",
       "ZIP code                        0\n",
       "Consumer consent provided?      0\n",
       "Submitted via                   0\n",
       "Date sent to company            0\n",
       "Company response to consumer    0\n",
       "Timely response?                0\n",
       "Complaint ID                    0\n",
       "dtype: int64"
      ]
     },
     "execution_count": 33,
     "metadata": {},
     "output_type": "execute_result"
    }
   ],
   "source": [
    "df.isnull().sum()"
   ]
  },
  {
   "cell_type": "code",
   "execution_count": 39,
   "id": "b68b57ba",
   "metadata": {},
   "outputs": [
    {
     "data": {
      "text/plain": [
       "Date received                   object\n",
       "Product                         object\n",
       "Sub-product                     object\n",
       "Issue                           object\n",
       "Sub-issue                       object\n",
       "Company public response         object\n",
       "Company                         object\n",
       "State                           object\n",
       "ZIP code                        object\n",
       "Consumer consent provided?      object\n",
       "Submitted via                   object\n",
       "Date sent to company            object\n",
       "Company response to consumer    object\n",
       "Timely response?                object\n",
       "Complaint ID                     int64\n",
       "dtype: object"
      ]
     },
     "execution_count": 39,
     "metadata": {},
     "output_type": "execute_result"
    }
   ],
   "source": [
    "df.dtypes"
   ]
  },
  {
   "cell_type": "code",
   "execution_count": 42,
   "id": "2397eef2",
   "metadata": {},
   "outputs": [],
   "source": [
    "df['Date received'] = pd.to_datetime(df['Date received'])\n",
    "df['ZIP code'] = pd.to_numeric(df['ZIP code'], errors='coerce').astype('Int64')\n",
    "df['Date sent to company'] = pd.to_datetime(df['Date sent to company'])\n"
   ]
  },
  {
   "cell_type": "code",
   "execution_count": 44,
   "id": "3ddf85fe",
   "metadata": {},
   "outputs": [
    {
     "data": {
      "text/plain": [
       "Date received                   datetime64[ns]\n",
       "Product                                 object\n",
       "Sub-product                             object\n",
       "Issue                                   object\n",
       "Sub-issue                               object\n",
       "Company public response                 object\n",
       "Company                                 object\n",
       "State                                   object\n",
       "ZIP code                                 Int64\n",
       "Consumer consent provided?              object\n",
       "Submitted via                           object\n",
       "Date sent to company            datetime64[ns]\n",
       "Company response to consumer            object\n",
       "Timely response?                        object\n",
       "Complaint ID                             int64\n",
       "dtype: object"
      ]
     },
     "execution_count": 44,
     "metadata": {},
     "output_type": "execute_result"
    }
   ],
   "source": [
    "df.dtypes"
   ]
  },
  {
   "cell_type": "code",
   "execution_count": 45,
   "id": "d7eaaa9c",
   "metadata": {},
   "outputs": [],
   "source": [
    "file_path = 'output.csv'\n",
    "df.to_csv(file_path) "
   ]
  },
  {
   "cell_type": "markdown",
   "id": "97888913",
   "metadata": {},
   "source": [
    "# 2\n",
    "Given an unsorted array of integers, find the length of the longest continuous increasing subsequence (subarray). "
   ]
  },
  {
   "cell_type": "code",
   "execution_count": null,
   "id": "fd1050dc",
   "metadata": {},
   "outputs": [],
   "source": [
    "def find_length(n):\n",
    "    if not nums:\n",
    "        return 0\n",
    "    max_length = 1\n",
    "    current_length = 1\n",
    "    for i in range(1, len(n)):\n",
    "        if n[i] > n[i - 1]:\n",
    "            current_length += 1\n",
    "            max_length = max(max_length, current_length)\n",
    "        else:\n",
    "            current_length = 1\n",
    "            return max_length\n",
    "\n",
    "n = input(\"Enter the array of integers: \").split(\",\")\n",
    "n = [int(i) for i in n]\n",
    "print(\"Length of the longest continuous increasing subsequence:\", find_length(n))\n"
   ]
  },
  {
   "cell_type": "markdown",
   "id": "f0cc0082",
   "metadata": {},
   "source": [
    "# 3 \n",
    "Given a list of non negative integers, arrange them such that they form the largest number."
   ]
  },
  {
   "cell_type": "code",
   "execution_count": 16,
   "id": "899fb75d",
   "metadata": {},
   "outputs": [
    {
     "name": "stdout",
     "output_type": "stream",
     "text": [
      "Enter the list of non-negative integers separated by spaces: 2,3,5,6\n",
      "Largest number: 6532\n"
     ]
    }
   ],
   "source": [
    "from functools import cmp_to_key\n",
    "def largest_number(nums):\n",
    "    def compare(x, y):\n",
    "        return int(y + x) - int(x + y)\n",
    "\n",
    "    nums = sorted(map(str, nums), key=cmp_to_key(compare))\n",
    "    return ''.join(nums)\n",
    "\n",
    "# Take input from the user\n",
    "nums = input(\"Enter the list of non-negative integers separated by spaces: \").split(\",\")\n",
    "nums = [int(num) for num in nums]\n",
    "\n",
    "# Call the function and print the result\n",
    "print(\"Largest number:\", largest_number(nums))\n"
   ]
  },
  {
   "cell_type": "code",
   "execution_count": 46,
   "id": "5a4f5b75",
   "metadata": {},
   "outputs": [
    {
     "data": {
      "text/plain": [
       "Company\n",
       "EQUIFAX, INC.                                     1075067\n",
       "TRANSUNION INTERMEDIATE HOLDINGS, INC.             994517\n",
       "Experian Information Solutions Inc.                904819\n",
       "BANK OF AMERICA, NATIONAL ASSOCIATION              140335\n",
       "WELLS FARGO & COMPANY                              128430\n",
       "                                                   ...   \n",
       "CNC MORTGAGE, LLC                                       1\n",
       "Student Loan Discharge Options LLC                      1\n",
       "ADF Automotives LLC                                     1\n",
       "AutoStar Finance, Inc - D/B/A Atlanta AutoStar          1\n",
       "FHC Mortgage                                            1\n",
       "Name: count, Length: 7204, dtype: int64"
      ]
     },
     "execution_count": 46,
     "metadata": {},
     "output_type": "execute_result"
    }
   ],
   "source": [
    "df[\"Company\"].value_counts()"
   ]
  },
  {
   "cell_type": "code",
   "execution_count": null,
   "id": "afad3c46",
   "metadata": {},
   "outputs": [],
   "source": []
  }
 ],
 "metadata": {
  "kernelspec": {
   "display_name": "Python 3 (ipykernel)",
   "language": "python",
   "name": "python3"
  },
  "language_info": {
   "codemirror_mode": {
    "name": "ipython",
    "version": 3
   },
   "file_extension": ".py",
   "mimetype": "text/x-python",
   "name": "python",
   "nbconvert_exporter": "python",
   "pygments_lexer": "ipython3",
   "version": "3.11.4"
  }
 },
 "nbformat": 4,
 "nbformat_minor": 5
}
